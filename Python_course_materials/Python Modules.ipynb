{
 "cells": [
  {
   "cell_type": "markdown",
   "metadata": {},
   "source": [
    "# Overview of useful Python modules\n",
    "\n",
    "This notebook shows an overview of Python modules and examples of how to use them."
   ]
  },
  {
   "cell_type": "markdown",
   "metadata": {},
   "source": [
    "## argparse\n",
    "\n",
    "### Command line option and argument parsing.\n"
   ]
  },
  {
   "cell_type": "code",
   "execution_count": 1,
   "metadata": {},
   "outputs": [
    {
     "name": "stdout",
     "output_type": "stream",
     "text": [
      "Namespace(a=True, b='val', c=3)\n"
     ]
    }
   ],
   "source": [
    "import argparse\n",
    "\n",
    "parser = argparse.ArgumentParser(description='Short sample app')\n",
    "\n",
    "parser.add_argument('-a', action=\"store_true\", default=False)\n",
    "parser.add_argument('-b', action=\"store\", dest=\"b\")\n",
    "parser.add_argument('-c', action=\"store\", dest=\"c\", type=int)\n",
    "\n",
    "print(parser.parse_args(['-a', '-bval', '-c', '3']))"
   ]
  },
  {
   "cell_type": "code",
   "execution_count": null,
   "metadata": {
    "collapsed": true
   },
   "outputs": [],
   "source": [
    "import argparse\n",
    "\n",
    "parser = argparse.ArgumentParser()\n",
    "\n",
    "parser.add_argument('-s', action='store', dest='simple_value',\n",
    "                    help='Store a simple value')\n",
    "\n",
    "parser.add_argument('-c', action='store_const', dest='constant_value',\n",
    "                    const='value-to-store',\n",
    "                    help='Store a constant value')\n",
    "\n",
    "parser.add_argument('-t', action='store_true', default=False,\n",
    "                    dest='boolean_switch',\n",
    "                    help='Set a switch to true')\n",
    "parser.add_argument('-f', action='store_false', default=False,\n",
    "                    dest='boolean_switch',\n",
    "                    help='Set a switch to false')\n",
    "\n",
    "parser.add_argument('-a', action='append', dest='collection',\n",
    "                    default=[],\n",
    "                    help='Add repeated values to a list',\n",
    "                    )\n",
    "\n",
    "parser.add_argument('-A', action='append_const', dest='const_collection',\n",
    "                    const='value-1-to-append',\n",
    "                    default=[],\n",
    "                    help='Add different values to list')\n",
    "parser.add_argument('-B', action='append_const', dest='const_collection',\n",
    "                    const='value-2-to-append',\n",
    "                    help='Add different values to list')\n",
    "\n",
    "parser.add_argument('--version', action='version', version='%(prog)s 1.0')\n",
    "\n",
    "results = parser.parse_args()\n",
    "print('simple_value     =', results.simple_value)\n",
    "print('constant_value   =', results.constant_value)\n",
    "print('boolean_switch   =', results.boolean_switch)\n",
    "print('collection       =', results.collection)\n",
    "print('const_collection =', results.const_collection)"
   ]
  },
  {
   "cell_type": "code",
   "execution_count": null,
   "metadata": {
    "collapsed": true
   },
   "outputs": [],
   "source": [
    "$ python argparse_action.py -h\n",
    "\n",
    "usage: argparse_action.py [-h] [-s SIMPLE_VALUE] [-c] [-t] [-f]\n",
    "                          [-a COLLECTION] [-A] [-B] [--version]\n",
    "\n",
    "optional arguments:\n",
    "  -h, --help       show this help message and exit\n",
    "  -s SIMPLE_VALUE  Store a simple value\n",
    "  -c               Store a constant value\n",
    "  -t               Set a switch to true\n",
    "  -f               Set a switch to false\n",
    "  -a COLLECTION    Add repeated values to a list\n",
    "  -A               Add different values to list\n",
    "  -B               Add different values to list\n",
    "  --version        show program's version number and exit\n",
    "\n",
    "$ python argparse_action.py -s value\n",
    "\n",
    "simple_value     = value\n",
    "constant_value   = None\n",
    "boolean_switch   = False\n",
    "collection       = []\n",
    "const_collection = []\n",
    "\n",
    "$ python argparse_action.py -c\n",
    "\n",
    "simple_value     = None\n",
    "constant_value   = value-to-store\n",
    "boolean_switch   = False\n",
    "collection       = []\n",
    "const_collection = []\n",
    "\n",
    "$ python argparse_action.py -t\n",
    "\n",
    "simple_value     = None\n",
    "constant_value   = None\n",
    "boolean_switch   = True\n",
    "collection       = []\n",
    "const_collection = []\n",
    "\n",
    "$ python argparse_action.py -f\n",
    "\n",
    "simple_value     = None\n",
    "constant_value   = None\n",
    "boolean_switch   = False\n",
    "collection       = []\n",
    "const_collection = []\n",
    "\n",
    "$ python argparse_action.py -a one -a two -a three\n",
    "\n",
    "simple_value     = None\n",
    "constant_value   = None\n",
    "boolean_switch   = False\n",
    "collection       = ['one', 'two', 'three']\n",
    "const_collection = []\n",
    "\n",
    "$ python argparse_action.py -B -A\n",
    "\n",
    "simple_value     = None\n",
    "constant_value   = None\n",
    "boolean_switch   = False\n",
    "collection       = []\n",
    "const_collection = ['value-2-to-append', 'value-1-to-append']\n",
    "\n",
    "$ python argparse_action.py --version\n",
    "\n",
    "argparse_action.py 1.0"
   ]
  },
  {
   "cell_type": "markdown",
   "metadata": {},
   "source": [
    "## collections\n",
    "\n",
    "### An OrderedDict is a dictionary subclass that remembers the order in which its contents are added."
   ]
  },
  {
   "cell_type": "code",
   "execution_count": 2,
   "metadata": {},
   "outputs": [
    {
     "name": "stdout",
     "output_type": "stream",
     "text": [
      "Regular dictionary:\n",
      "a A\n",
      "b B\n",
      "c C\n",
      "d D\n",
      "e E\n",
      "\n",
      "OrderedDict:\n",
      "a A\n",
      "b B\n",
      "c C\n",
      "d D\n",
      "e E\n"
     ]
    }
   ],
   "source": [
    "import collections\n",
    "\n",
    "print('Regular dictionary:')\n",
    "d = {}\n",
    "d['a'] = 'A'\n",
    "d['b'] = 'B'\n",
    "d['c'] = 'C'\n",
    "d['d'] = 'D'\n",
    "d['e'] = 'E'\n",
    "\n",
    "for k, v in d.items():\n",
    "    print(k, v)\n",
    "\n",
    "print('\\nOrderedDict:')\n",
    "d = collections.OrderedDict()\n",
    "d['a'] = 'A'\n",
    "d['b'] = 'B'\n",
    "d['c'] = 'C'\n",
    "d['d'] = 'D'\n",
    "d['e'] = 'E'\n",
    "\n",
    "for k, v in d.items():\n",
    "    print(k, v)"
   ]
  },
  {
   "cell_type": "markdown",
   "metadata": {},
   "source": [
    "## csv\n",
    "### Read and write comma separated value files."
   ]
  },
  {
   "cell_type": "code",
   "execution_count": 3,
   "metadata": {},
   "outputs": [
    {
     "name": "stdout",
     "output_type": "stream",
     "text": [
      "['Title 1', 'Title 2', 'Title 3']\n",
      "['1', 'a', '08/18/07']\n",
      "['2', 'b', '08/19/07']\n",
      "['3', 'c', '08/20/07']\n",
      "['4', 'd', '08/21/07']\n",
      "['5', 'e', '08/22/07']\n",
      "['6', 'f', '08/23/07']\n",
      "['7', 'g', '08/24/07']\n",
      "['8', 'h', '08/25/07']\n",
      "['9', 'i', '08/26/07']\n"
     ]
    }
   ],
   "source": [
    "import csv\n",
    "import sys\n",
    "\n",
    "f = open(\"testdata.csv\"), 'rt')\n",
    "try:\n",
    "    reader = csv.reader(f)\n",
    "    for row in reader:\n",
    "        print(row)\n",
    "finally:\n",
    "    f.close()"
   ]
  },
  {
   "cell_type": "markdown",
   "metadata": {},
   "source": [
    "## datetime\n",
    "### The datetime module includes functions and classes for doing date and time parsing, formatting, and arithmetic.\n"
   ]
  },
  {
   "cell_type": "code",
   "execution_count": 5,
   "metadata": {},
   "outputs": [
    {
     "name": "stdout",
     "output_type": "stream",
     "text": [
      "Now    : 2017-07-26 13:43:53.766996\n",
      "Today  : 2017-07-26 13:43:53.767292\n",
      "UTC Now: 2017-07-26 11:43:53.767607\n",
      "year : 2017\n",
      "month : 7\n",
      "day : 26\n",
      "hour : 13\n",
      "minute : 43\n",
      "second : 53\n",
      "microsecond : 769498\n"
     ]
    }
   ],
   "source": [
    "from datetime import datetime\n",
    "\n",
    "print('Now    :', datetime.now())\n",
    "print('Today  :', datetime.today())\n",
    "print('UTC Now:', datetime.utcnow())\n",
    "\n",
    "d = datetime.now()\n",
    "for attr in [ 'year', 'month', 'day', 'hour', 'minute', 'second', 'microsecond']:\n",
    "    print(attr, ':', getattr(d, attr))"
   ]
  },
  {
   "cell_type": "markdown",
   "metadata": {},
   "source": [
    "## doctest\n",
    "### Write automated tests as part of the documentation for a module."
   ]
  },
  {
   "cell_type": "code",
   "execution_count": null,
   "metadata": {
    "collapsed": true
   },
   "outputs": [],
   "source": [
    "# doctest_simple_with_docs.py\n",
    "\n",
    "def my_function(a, b):\n",
    "    \"\"\"Returns a * b.\n",
    "\n",
    "    Works with numbers:\n",
    "\n",
    "    >>> my_function(2, 3)\n",
    "    6\n",
    "\n",
    "    and strings:\n",
    "\n",
    "    >>> my_function('a', 3)\n",
    "    'aaa'\n",
    "    \"\"\"\n",
    "    return a * b"
   ]
  },
  {
   "cell_type": "code",
   "execution_count": null,
   "metadata": {
    "collapsed": true
   },
   "outputs": [],
   "source": [
    "$ python3 -m doctest -v doctest_simple_with_docs.py\n",
    "\n",
    "Trying:\n",
    "    my_function(2, 3)\n",
    "Expecting:\n",
    "    6\n",
    "ok\n",
    "Trying:\n",
    "    my_function('a', 3)\n",
    "Expecting:\n",
    "    'aaa'\n",
    "ok\n",
    "1 items had no tests:\n",
    "    doctest_simple_with_docs\n",
    "1 items passed all tests:\n",
    "   2 tests in doctest_simple_with_docs.my_function\n",
    "2 tests in 2 items.\n",
    "2 passed and 0 failed.\n",
    "Test passed."
   ]
  },
  {
   "cell_type": "markdown",
   "metadata": {},
   "source": [
    "## json\n",
    "\n",
    "### Encode Python objects as JSON strings, and decode JSON strings into Python objects."
   ]
  },
  {
   "cell_type": "code",
   "execution_count": 6,
   "metadata": {},
   "outputs": [
    {
     "name": "stdout",
     "output_type": "stream",
     "text": [
      "DATA: [{'a': 'A', 'b': (2, 4), 'c': 3.0}]\n",
      "NORMAL: [{\"a\": \"A\", \"b\": [2, 4], \"c\": 3.0}]\n",
      "INDENT: [\n",
      "  {\n",
      "    \"a\": \"A\",\n",
      "    \"b\": [\n",
      "      2,\n",
      "      4\n",
      "    ],\n",
      "    \"c\": 3.0\n",
      "  }\n",
      "]\n"
     ]
    }
   ],
   "source": [
    "import json\n",
    "\n",
    "data = [{'a': 'A', 'b': (2, 4), 'c': 3.0}]\n",
    "print('DATA:', repr(data))\n",
    "\n",
    "print('NORMAL:', json.dumps(data, sort_keys=True))\n",
    "print('INDENT:', json.dumps(data, sort_keys=True, indent=2))"
   ]
  },
  {
   "cell_type": "markdown",
   "metadata": {},
   "source": [
    "## logging\n",
    "### Report status, error, and informational messages.\n"
   ]
  },
  {
   "cell_type": "code",
   "execution_count": null,
   "metadata": {
    "collapsed": true
   },
   "outputs": [],
   "source": [
    "import logging\n",
    "import sys\n",
    "\n",
    "LEVELS = {\n",
    "    'debug': logging.DEBUG,\n",
    "    'info': logging.INFO,\n",
    "    'warning': logging.WARNING,\n",
    "    'error': logging.ERROR,\n",
    "    'critical': logging.CRITICAL,\n",
    "}\n",
    "\n",
    "if len(sys.argv) > 1:\n",
    "    level_name = sys.argv[1]\n",
    "    level = LEVELS.get(level_name, logging.NOTSET)\n",
    "    logging.basicConfig(level=level)\n",
    "\n",
    "logging.debug('This is a debug message')\n",
    "logging.info('This is an info message')\n",
    "logging.warning('This is a warning message')\n",
    "logging.error('This is an error message')\n",
    "logging.critical('This is a critical error message')"
   ]
  },
  {
   "cell_type": "code",
   "execution_count": null,
   "metadata": {
    "collapsed": true
   },
   "outputs": [],
   "source": [
    "$ python3 logging_level_example.py debug\n",
    "\n",
    "DEBUG:root:This is a debug message\n",
    "INFO:root:This is an info message\n",
    "WARNING:root:This is a warning message\n",
    "ERROR:root:This is an error message\n",
    "CRITICAL:root:This is a critical error message\n",
    "\n",
    "$ python3 logging_level_example.py info\n",
    "\n",
    "INFO:root:This is an info message\n",
    "WARNING:root:This is a warning message\n",
    "ERROR:root:This is an error message\n",
    "CRITICAL:root:This is a critical error message"
   ]
  },
  {
   "cell_type": "markdown",
   "metadata": {},
   "source": [
    "## math\n",
    "### Provides functions for specialized mathematical operations.\n"
   ]
  },
  {
   "cell_type": "code",
   "execution_count": 7,
   "metadata": {},
   "outputs": [
    {
     "name": "stdout",
     "output_type": "stream",
     "text": [
      "  π: 3.141592653589793115997963468544\n",
      "  e: 2.718281828459045090795598298428\n",
      "nan: nan\n",
      "inf: inf\n"
     ]
    }
   ],
   "source": [
    "import math\n",
    "\n",
    "print('  π: {:.30f}'.format(math.pi))\n",
    "print('  e: {:.30f}'.format(math.e))\n",
    "print('nan: {:.30f}'.format(math.nan))\n",
    "print('inf: {:.30f}'.format(math.inf))"
   ]
  },
  {
   "cell_type": "markdown",
   "metadata": {},
   "source": [
    "## os\n",
    "### Portable access to operating system specific features."
   ]
  },
  {
   "cell_type": "code",
   "execution_count": null,
   "metadata": {
    "collapsed": true
   },
   "outputs": [],
   "source": [
    "import os\n",
    "\n",
    "print(os.listdir(os.path.expanduser(\".\")))"
   ]
  },
  {
   "cell_type": "code",
   "execution_count": null,
   "metadata": {
    "collapsed": true
   },
   "outputs": [],
   "source": [
    "import os\n",
    "\n",
    "root = '/tmp'\n",
    "\n",
    "for dir_name, sub_dirs, files in os.walk(root):\n",
    "    print(dir_name)\n",
    "    # Make the subdirectory names stand out with /\n",
    "    sub_dirs = [n + '/' for n in sub_dirs]\n",
    "    # Mix the directory contents together\n",
    "    contents = sub_dirs + files\n",
    "    contents.sort()\n",
    "    # Show the contents\n",
    "    for c in contents:\n",
    "        print('  {}'.format(c))\n",
    "    print()"
   ]
  },
  {
   "cell_type": "markdown",
   "metadata": {},
   "source": [
    "## random\n",
    "### Implements several types of pseudorandom number generators."
   ]
  },
  {
   "cell_type": "code",
   "execution_count": 9,
   "metadata": {},
   "outputs": [
    {
     "name": "stdout",
     "output_type": "stream",
     "text": [
      "0.249 0.298 0.735 0.359 0.181 \n"
     ]
    }
   ],
   "source": [
    "import random\n",
    "\n",
    "for i in range(5):\n",
    "    print('%04.3f' % random.random(), end=' ')\n",
    "print()"
   ]
  },
  {
   "cell_type": "code",
   "execution_count": 12,
   "metadata": {},
   "outputs": [
    {
     "name": "stdout",
     "output_type": "stream",
     "text": [
      "0.134 0.847 0.764 0.255 0.495 \n"
     ]
    }
   ],
   "source": [
    "import random\n",
    "\n",
    "random.seed(1)\n",
    "\n",
    "for i in range(5):\n",
    "    print('{:04.3f}'.format(random.random()), end=' ')\n",
    "print()"
   ]
  },
  {
   "cell_type": "code",
   "execution_count": 13,
   "metadata": {},
   "outputs": [
    {
     "name": "stdout",
     "output_type": "stream",
     "text": [
      "[1, 100]: 58 61 84 \n",
      "[-5, 5]: 1 -2 -4 \n"
     ]
    }
   ],
   "source": [
    "import random\n",
    "\n",
    "print('[1, 100]:', end=' ')\n",
    "\n",
    "for i in range(3):\n",
    "    print(random.randint(1, 100), end=' ')\n",
    "\n",
    "print('\\n[-5, 5]:', end=' ')\n",
    "for i in range(3):\n",
    "    print(random.randint(-5, 5), end=' ')\n",
    "print()"
   ]
  },
  {
   "cell_type": "code",
   "execution_count": 14,
   "metadata": {},
   "outputs": [
    {
     "name": "stdout",
     "output_type": "stream",
     "text": [
      "75 0 60 \n"
     ]
    }
   ],
   "source": [
    "import random\n",
    "\n",
    "for i in range(3):\n",
    "    print(random.randrange(0, 101, 5), end=' ')\n",
    "print()"
   ]
  }
 ],
 "metadata": {
  "kernelspec": {
   "display_name": "Python 3",
   "language": "python",
   "name": "python3"
  },
  "language_info": {
   "codemirror_mode": {
    "name": "ipython",
    "version": 3
   },
   "file_extension": ".py",
   "mimetype": "text/x-python",
   "name": "python",
   "nbconvert_exporter": "python",
   "pygments_lexer": "ipython3",
   "version": "3.6.2"
  }
 },
 "nbformat": 4,
 "nbformat_minor": 2
}
